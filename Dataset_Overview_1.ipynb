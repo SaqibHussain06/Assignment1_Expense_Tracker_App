{
  "nbformat": 4,
  "nbformat_minor": 0,
  "metadata": {
    "colab": {
      "name": "Dataset Overview_1.ipynb",
      "provenance": [],
      "authorship_tag": "ABX9TyM2wMkMbvDfXV6odpL4mH23",
      "include_colab_link": true
    },
    "kernelspec": {
      "name": "python3",
      "display_name": "Python 3"
    },
    "language_info": {
      "name": "python"
    }
  },
  "cells": [
    {
      "cell_type": "markdown",
      "metadata": {
        "id": "view-in-github",
        "colab_type": "text"
      },
      "source": [
        "<a href=\"https://colab.research.google.com/github/SaqibHussain06/Assignment1_Expense_Tracker_App/blob/master/Dataset_Overview_1.ipynb\" target=\"_parent\"><img src=\"https://colab.research.google.com/assets/colab-badge.svg\" alt=\"Open In Colab\"/></a>"
      ]
    },
    {
      "cell_type": "markdown",
      "metadata": {
        "id": "l7vHTcDAeh7l"
      },
      "source": [
        "# Environment Set-up"
      ]
    },
    {
      "cell_type": "code",
      "metadata": {
        "colab": {
          "base_uri": "https://localhost:8080/"
        },
        "id": "kQOTRmhCelHB",
        "outputId": "c5d87262-f353-46dc-e049-dbb6f3f86433"
      },
      "source": [
        "!pip install matplotlib pandas numpy scipy seaborn mne\n",
        "!pip install beautifulsoup4 requests wget\n",
        "!pip install h5py tables kaggle\n",
        "!pip install wfdb pyEDFlib"
      ],
      "execution_count": null,
      "outputs": [
        {
          "output_type": "stream",
          "text": [
            "Requirement already satisfied: matplotlib in /usr/local/lib/python3.7/dist-packages (3.2.2)\n",
            "Requirement already satisfied: pandas in /usr/local/lib/python3.7/dist-packages (1.1.5)\n",
            "Requirement already satisfied: numpy in /usr/local/lib/python3.7/dist-packages (1.19.5)\n",
            "Requirement already satisfied: scipy in /usr/local/lib/python3.7/dist-packages (1.4.1)\n",
            "Requirement already satisfied: seaborn in /usr/local/lib/python3.7/dist-packages (0.11.1)\n",
            "Collecting mne\n",
            "\u001b[?25l  Downloading https://files.pythonhosted.org/packages/60/f7/2bf5de3fad42b66d00ee27539bc3be0260b4e66fdecc12f740cdf2daf2e7/mne-0.23.0-py3-none-any.whl (6.9MB)\n",
            "\u001b[K     |████████████████████████████████| 7.0MB 5.9MB/s \n",
            "\u001b[?25hRequirement already satisfied: pyparsing!=2.0.4,!=2.1.2,!=2.1.6,>=2.0.1 in /usr/local/lib/python3.7/dist-packages (from matplotlib) (2.4.7)\n",
            "Requirement already satisfied: cycler>=0.10 in /usr/local/lib/python3.7/dist-packages (from matplotlib) (0.10.0)\n",
            "Requirement already satisfied: kiwisolver>=1.0.1 in /usr/local/lib/python3.7/dist-packages (from matplotlib) (1.3.1)\n",
            "Requirement already satisfied: python-dateutil>=2.1 in /usr/local/lib/python3.7/dist-packages (from matplotlib) (2.8.1)\n",
            "Requirement already satisfied: pytz>=2017.2 in /usr/local/lib/python3.7/dist-packages (from pandas) (2018.9)\n",
            "Requirement already satisfied: six in /usr/local/lib/python3.7/dist-packages (from cycler>=0.10->matplotlib) (1.15.0)\n",
            "Installing collected packages: mne\n",
            "Successfully installed mne-0.23.0\n",
            "Requirement already satisfied: beautifulsoup4 in /usr/local/lib/python3.7/dist-packages (4.6.3)\n",
            "Requirement already satisfied: requests in /usr/local/lib/python3.7/dist-packages (2.23.0)\n",
            "Collecting wget\n",
            "  Downloading https://files.pythonhosted.org/packages/47/6a/62e288da7bcda82b935ff0c6cfe542970f04e29c756b0e147251b2fb251f/wget-3.2.zip\n",
            "Requirement already satisfied: chardet<4,>=3.0.2 in /usr/local/lib/python3.7/dist-packages (from requests) (3.0.4)\n",
            "Requirement already satisfied: certifi>=2017.4.17 in /usr/local/lib/python3.7/dist-packages (from requests) (2020.12.5)\n",
            "Requirement already satisfied: urllib3!=1.25.0,!=1.25.1,<1.26,>=1.21.1 in /usr/local/lib/python3.7/dist-packages (from requests) (1.24.3)\n",
            "Requirement already satisfied: idna<3,>=2.5 in /usr/local/lib/python3.7/dist-packages (from requests) (2.10)\n",
            "Building wheels for collected packages: wget\n",
            "  Building wheel for wget (setup.py) ... \u001b[?25l\u001b[?25hdone\n",
            "  Created wheel for wget: filename=wget-3.2-cp37-none-any.whl size=9681 sha256=92a6a95915da366e80461ebda6fc1efab8c9922bfe7281a2c0161fff9661928f\n",
            "  Stored in directory: /root/.cache/pip/wheels/40/15/30/7d8f7cea2902b4db79e3fea550d7d7b85ecb27ef992b618f3f\n",
            "Successfully built wget\n",
            "Installing collected packages: wget\n",
            "Successfully installed wget-3.2\n",
            "Requirement already satisfied: h5py in /usr/local/lib/python3.7/dist-packages (2.10.0)\n",
            "Requirement already satisfied: tables in /usr/local/lib/python3.7/dist-packages (3.4.4)\n",
            "Requirement already satisfied: kaggle in /usr/local/lib/python3.7/dist-packages (1.5.12)\n",
            "Requirement already satisfied: six in /usr/local/lib/python3.7/dist-packages (from h5py) (1.15.0)\n",
            "Requirement already satisfied: numpy>=1.7 in /usr/local/lib/python3.7/dist-packages (from h5py) (1.19.5)\n",
            "Requirement already satisfied: numexpr>=2.5.2 in /usr/local/lib/python3.7/dist-packages (from tables) (2.7.3)\n",
            "Requirement already satisfied: urllib3 in /usr/local/lib/python3.7/dist-packages (from kaggle) (1.24.3)\n",
            "Requirement already satisfied: python-slugify in /usr/local/lib/python3.7/dist-packages (from kaggle) (4.0.1)\n",
            "Requirement already satisfied: python-dateutil in /usr/local/lib/python3.7/dist-packages (from kaggle) (2.8.1)\n",
            "Requirement already satisfied: requests in /usr/local/lib/python3.7/dist-packages (from kaggle) (2.23.0)\n",
            "Requirement already satisfied: certifi in /usr/local/lib/python3.7/dist-packages (from kaggle) (2020.12.5)\n",
            "Requirement already satisfied: tqdm in /usr/local/lib/python3.7/dist-packages (from kaggle) (4.41.1)\n",
            "Requirement already satisfied: text-unidecode>=1.3 in /usr/local/lib/python3.7/dist-packages (from python-slugify->kaggle) (1.3)\n",
            "Requirement already satisfied: chardet<4,>=3.0.2 in /usr/local/lib/python3.7/dist-packages (from requests->kaggle) (3.0.4)\n",
            "Requirement already satisfied: idna<3,>=2.5 in /usr/local/lib/python3.7/dist-packages (from requests->kaggle) (2.10)\n",
            "Collecting wfdb\n",
            "\u001b[?25l  Downloading https://files.pythonhosted.org/packages/11/be/d5572d9a8b779857f517306db178561c417456c76124cb4c9e7d234cf5a5/wfdb-3.3.0-py3-none-any.whl (125kB)\n",
            "\u001b[K     |████████████████████████████████| 133kB 4.1MB/s \n",
            "\u001b[?25hCollecting pyEDFlib\n",
            "\u001b[?25l  Downloading https://files.pythonhosted.org/packages/64/32/d70313f001a4c1494c5761b37836054239de428539dd7c76c20f108a610a/pyEDFlib-0.1.22.tar.gz (1.3MB)\n",
            "\u001b[K     |████████████████████████████████| 1.3MB 7.1MB/s \n",
            "\u001b[?25h  Installing build dependencies ... \u001b[?25l\u001b[?25hdone\n",
            "  Getting requirements to build wheel ... \u001b[?25l\u001b[?25hdone\n",
            "    Preparing wheel metadata ... \u001b[?25l\u001b[?25hdone\n",
            "Requirement already satisfied: numpy>=1.10.1 in /usr/local/lib/python3.7/dist-packages (from wfdb) (1.19.5)\n",
            "Requirement already satisfied: chardet>=3.0.0 in /usr/local/lib/python3.7/dist-packages (from wfdb) (3.0.4)\n",
            "Requirement already satisfied: kiwisolver>=1.1.0 in /usr/local/lib/python3.7/dist-packages (from wfdb) (1.3.1)\n",
            "Requirement already satisfied: matplotlib>=2.0.0 in /usr/local/lib/python3.7/dist-packages (from wfdb) (3.2.2)\n",
            "Collecting threadpoolctl>=1.0.0\n",
            "  Downloading https://files.pythonhosted.org/packages/f7/12/ec3f2e203afa394a149911729357aa48affc59c20e2c1c8297a60f33f133/threadpoolctl-2.1.0-py3-none-any.whl\n",
            "Requirement already satisfied: cycler>=0.10.0 in /usr/local/lib/python3.7/dist-packages (from wfdb) (0.10.0)\n",
            "Requirement already satisfied: certifi>=2016.8.2 in /usr/local/lib/python3.7/dist-packages (from wfdb) (2020.12.5)\n",
            "Requirement already satisfied: scipy>=0.17.0 in /usr/local/lib/python3.7/dist-packages (from wfdb) (1.4.1)\n",
            "Requirement already satisfied: scikit-learn>=0.18 in /usr/local/lib/python3.7/dist-packages (from wfdb) (0.22.2.post1)\n",
            "Requirement already satisfied: idna>=2.2 in /usr/local/lib/python3.7/dist-packages (from wfdb) (2.10)\n",
            "Requirement already satisfied: joblib>=0.11 in /usr/local/lib/python3.7/dist-packages (from wfdb) (1.0.1)\n",
            "Requirement already satisfied: pytz>=2017.2 in /usr/local/lib/python3.7/dist-packages (from wfdb) (2018.9)\n",
            "Requirement already satisfied: urllib3>=1.22 in /usr/local/lib/python3.7/dist-packages (from wfdb) (1.24.3)\n",
            "Requirement already satisfied: requests>=2.8.1 in /usr/local/lib/python3.7/dist-packages (from wfdb) (2.23.0)\n",
            "Requirement already satisfied: python-dateutil>=2.4.2 in /usr/local/lib/python3.7/dist-packages (from wfdb) (2.8.1)\n",
            "Requirement already satisfied: pandas>=0.17.0 in /usr/local/lib/python3.7/dist-packages (from wfdb) (1.1.5)\n",
            "Requirement already satisfied: pyparsing>=2.0.4 in /usr/local/lib/python3.7/dist-packages (from wfdb) (2.4.7)\n",
            "Requirement already satisfied: six in /usr/local/lib/python3.7/dist-packages (from cycler>=0.10.0->wfdb) (1.15.0)\n",
            "Building wheels for collected packages: pyEDFlib\n",
            "  Building wheel for pyEDFlib (PEP 517) ... \u001b[?25l\u001b[?25hdone\n",
            "  Created wheel for pyEDFlib: filename=pyEDFlib-0.1.22-cp37-cp37m-linux_x86_64.whl size=1520497 sha256=089aa4c19b4570a0458a6d23112df90d1120a2908ad93874dbd3b9179ea5a223\n",
            "  Stored in directory: /root/.cache/pip/wheels/30/47/cc/d8725129b678c85e470f577e8fcac31e176e639deb64f9dcc1\n",
            "Successfully built pyEDFlib\n",
            "Installing collected packages: threadpoolctl, wfdb, pyEDFlib\n",
            "Successfully installed pyEDFlib-0.1.22 threadpoolctl-2.1.0 wfdb-3.3.0\n"
          ],
          "name": "stdout"
        }
      ]
    },
    {
      "cell_type": "code",
      "metadata": {
        "colab": {
          "base_uri": "https://localhost:8080/"
        },
        "id": "3r_1xRgVenoy",
        "outputId": "36b9abab-1d16-4c78-aa1e-4ccb7bc996d9"
      },
      "source": [
        "# colours for printing outputs\n",
        "class color:\n",
        "   PURPLE = '\\033[95m'\n",
        "   CYAN = '\\033[96m'\n",
        "   DARKCYAN = '\\033[36m'\n",
        "   BLUE = '\\033[94m'\n",
        "   GREEN = '\\033[92m'\n",
        "   YELLOW = '\\033[93m'\n",
        "   RED = '\\033[91m'\n",
        "   BOLD = '\\033[1m'\n",
        "   UNDERLINE = '\\033[4m'\n",
        "   END = '\\033[0m'\n",
        "  \n",
        "print(color.BOLD+color.UNDERLINE+'Title'+color.END)\n",
        "print('Hello World')"
      ],
      "execution_count": null,
      "outputs": [
        {
          "output_type": "stream",
          "text": [
            "\u001b[1m\u001b[4mTitle\u001b[0m\n",
            "Hello World\n"
          ],
          "name": "stdout"
        }
      ]
    },
    {
      "cell_type": "markdown",
      "metadata": {
        "id": "ftAnSa1ze5Xz"
      },
      "source": [
        "Lets create a function to list all the files/directories it finds in a location and save them to a list."
      ]
    },
    {
      "cell_type": "code",
      "metadata": {
        "id": "aWahm7WLexPu"
      },
      "source": [
        "import glob            # for file locations\n",
        "import pprint          # for pretty printing\n",
        "import re\n",
        "\n",
        "pp = pprint.PrettyPrinter()\n",
        "\n",
        "def file_list(folder_path, output=False):\n",
        "    # create an empty list\n",
        "    file_list = []\n",
        "    # for file name in the folder path...\n",
        "    for filename in glob.glob(folder_path):\n",
        "        # ... append it to the list\n",
        "        file_list.append(filename)\n",
        "        \n",
        "    # sort alphabetically\n",
        "    file_list.sort()\n",
        "    \n",
        "    # Output\n",
        "    if output:\n",
        "        print(str(len(file_list)) + \" files found\")\n",
        "        pp.pprint(file_list)\n",
        "    \n",
        "    return file_list"
      ],
      "execution_count": null,
      "outputs": []
    },
    {
      "cell_type": "markdown",
      "metadata": {
        "id": "KQGsQHFcfMzy"
      },
      "source": [
        "# Downloading Dataset"
      ]
    },
    {
      "cell_type": "code",
      "metadata": {
        "id": "16iBE1H2e_FK"
      },
      "source": [
        "import sys\n",
        "import os\n",
        "from bs4 import BeautifulSoup\n",
        "import requests\n",
        "import re\n",
        "import wget\n",
        "import zipfile\n",
        "\n",
        "def find_files(url):\n",
        "    # get a soup of the directory url\n",
        "    soup = BeautifulSoup(requests.get(url).text, features=\"html.parser\")\n",
        "\n",
        "    # make a list of all the links in the url\n",
        "    hrefs_list = []\n",
        "    for link in soup.find_all('a'):\n",
        "        hrefs_list.append(link.get('href'))\n",
        "\n",
        "    return hrefs_list\n",
        "    \n",
        "    \n",
        "def download_file(download_file_url, file_dir, output=False):\n",
        "    if output:\n",
        "        # print it is downloading\n",
        "        print('Downloading: '+ download_file_url)\n",
        "    # download the file to the directory\n",
        "    wget.download(download_file_url, file_dir)\n",
        "    \n",
        "    \n",
        "# needs a directory to download it to\n",
        "def download_epileptologie(DIR, output=False):\n",
        "    \n",
        "    # directory url\n",
        "    front_url = 'http://epileptologie-bonn.de/cms/front_content.php?idcat=193&lang=3&changelang=3'\n",
        "    dir_url = 'http://epileptologie-bonn.de/cms'\n",
        "\n",
        "    hrefs_dir_list = find_files(front_url)\n",
        "    \n",
        "    # for each link in the directory\n",
        "    for link in hrefs_dir_list:\n",
        "        # download the files outside of participant folders we want\n",
        "        if re.findall('zip', str(link)):\n",
        "            # if the file doesnt already exist in the directory\n",
        "            if not os.path.exists(os.path.join(DIR, link)):\n",
        "                download_file(dir_url+'/'+str(link), DIR, output)\n",
        "                zip_file_name = link.split('/')[-1]\n",
        "                zip_ref = zipfile.ZipFile(os.path.join(DIR, zip_file_name), 'r')\n",
        "                zip_ref.extractall(os.path.join(DIR, zip_file_name[0]))\n",
        "                zip_ref.close()\n",
        "                os.remove(os.path.join(DIR, zip_file_name))"
      ],
      "execution_count": null,
      "outputs": []
    },
    {
      "cell_type": "code",
      "metadata": {
        "colab": {
          "base_uri": "https://localhost:8080/"
        },
        "id": "coAk7wXCflGz",
        "outputId": "bab1cb19-5815-471d-a462-f1070a121a22"
      },
      "source": [
        "DOWNLOAD_DIR = \"Epileptologie Database\"\n",
        "\n",
        "if not os.path.exists(DOWNLOAD_DIR):\n",
        "  os.makedirs(DOWNLOAD_DIR)\n",
        "  download_epileptologie(DOWNLOAD_DIR, output=True)\n",
        "\n",
        "else:\n",
        "  print(\"Already Downloaded\")"
      ],
      "execution_count": null,
      "outputs": [
        {
          "output_type": "stream",
          "text": [
            "Downloading: http://epileptologie-bonn.de/cms/upload/workgroup/lehnertz/Z.zip\n",
            "Downloading: http://epileptologie-bonn.de/cms/upload/workgroup/lehnertz/O.zip\n",
            "Downloading: http://epileptologie-bonn.de/cms/upload/workgroup/lehnertz/N.zip\n",
            "Downloading: http://epileptologie-bonn.de/cms/upload/workgroup/lehnertz/F.zip\n",
            "Downloading: http://epileptologie-bonn.de/cms/upload/workgroup/lehnertz/S.zip\n"
          ],
          "name": "stdout"
        }
      ]
    },
    {
      "cell_type": "markdown",
      "metadata": {
        "id": "2MQSPnGGfqYG"
      },
      "source": [
        "# Load Data\n",
        "\n",
        "Lets have a look at intercranial EEG activity, recorded from within the \"epileptogenic zone\". The two files we will read in represent seizure and non-seizure brain activity. Lets create an object that represents their file path."
      ]
    },
    {
      "cell_type": "code",
      "metadata": {
        "colab": {
          "base_uri": "https://localhost:8080/"
        },
        "id": "TT4qIuiJfsOO",
        "outputId": "71d4f57a-8613-4414-b760-6aef9b962d66"
      },
      "source": [
        "# get folder lists\n",
        "EPIL_dir_file_list = file_list(os.path.join(DOWNLOAD_DIR, '*'), output=True)"
      ],
      "execution_count": null,
      "outputs": [
        {
          "output_type": "stream",
          "text": [
            "5 files found\n",
            "['Epileptologie Database/F',\n",
            " 'Epileptologie Database/N',\n",
            " 'Epileptologie Database/O',\n",
            " 'Epileptologie Database/S',\n",
            " 'Epileptologie Database/Z']\n"
          ],
          "name": "stdout"
        }
      ]
    },
    {
      "cell_type": "code",
      "metadata": {
        "id": "gRBFPdWgf3BX"
      },
      "source": [
        "epil_baseline_file = os.path.join(EPIL_dir_file_list[0], 'F060.txt')\n",
        "epil_seizure_file = os.path.join(EPIL_dir_file_list[3], 'S033.txt')"
      ],
      "execution_count": null,
      "outputs": []
    },
    {
      "cell_type": "code",
      "metadata": {
        "colab": {
          "base_uri": "https://localhost:8080/",
          "height": 35
        },
        "id": "X_dq8c0Vf8O8",
        "outputId": "61c19b72-5dd6-4347-9eeb-61da90b7d64e"
      },
      "source": [
        "epil_baseline_file"
      ],
      "execution_count": null,
      "outputs": [
        {
          "output_type": "execute_result",
          "data": {
            "application/vnd.google.colaboratory.intrinsic+json": {
              "type": "string"
            },
            "text/plain": [
              "'Epileptologie Database/F/F060.txt'"
            ]
          },
          "metadata": {
            "tags": []
          },
          "execution_count": 8
        }
      ]
    },
    {
      "cell_type": "code",
      "metadata": {
        "colab": {
          "base_uri": "https://localhost:8080/",
          "height": 35
        },
        "id": "Fdou7j7_gAKw",
        "outputId": "6fe0e073-9f5a-4a21-c53f-faa343c14e11"
      },
      "source": [
        "epil_seizure_file"
      ],
      "execution_count": null,
      "outputs": [
        {
          "output_type": "execute_result",
          "data": {
            "application/vnd.google.colaboratory.intrinsic+json": {
              "type": "string"
            },
            "text/plain": [
              "'Epileptologie Database/S/S033.txt'"
            ]
          },
          "metadata": {
            "tags": []
          },
          "execution_count": 9
        }
      ]
    },
    {
      "cell_type": "markdown",
      "metadata": {
        "id": "aInerjotgQYt"
      },
      "source": [
        "Lets create a function to read in the data as a Pandas DataFrame. These dataframes hold \"2-dimensional labeled data structure with columns of potentially different types\"1"
      ]
    },
    {
      "cell_type": "code",
      "metadata": {
        "colab": {
          "base_uri": "https://localhost:8080/",
          "height": 867
        },
        "id": "YxHoHDurgCv-",
        "outputId": "68538ced-7e28-4dc3-bbdc-fd91e12c96e2"
      },
      "source": [
        "import pandas as pd     # dataframes\n",
        "import re\n",
        "\n",
        "def data_load(file_path, output=False):\n",
        "\n",
        "    # read in the datafile\n",
        "    data = pd.read_csv(file_path,                 # file in\n",
        "                       header=None,               # no column names at top of file\n",
        "                       dtype=float)               # read data as 'floating points' (e.g. 1.0)\n",
        "\n",
        "    if output:\n",
        "        print(color.BOLD+color.UNDERLINE+'\\n'+re.findall('\\w\\d+',file_path)[0]+color.END)\n",
        "        # Output detailed information on the data\n",
        "        print(color.BOLD+'\\nData Information'+color.END)\n",
        "        data.info()\n",
        "\n",
        "        # Output first 5 rows and columns\n",
        "        print(color.BOLD+'\\nDataframe Head'+color.END)\n",
        "        display(data.head())\n",
        "        \n",
        "    return data\n",
        "        \n",
        "\n",
        "epil_baseline_df = data_load(epil_baseline_file, output=True)\n",
        "epil_seizure_df = data_load(epil_seizure_file, output=True)"
      ],
      "execution_count": null,
      "outputs": [
        {
          "output_type": "stream",
          "text": [
            "\u001b[1m\u001b[4m\n",
            "F060\u001b[0m\n",
            "\u001b[1m\n",
            "Data Information\u001b[0m\n",
            "<class 'pandas.core.frame.DataFrame'>\n",
            "RangeIndex: 4097 entries, 0 to 4096\n",
            "Data columns (total 1 columns):\n",
            " #   Column  Non-Null Count  Dtype  \n",
            "---  ------  --------------  -----  \n",
            " 0   0       4097 non-null   float64\n",
            "dtypes: float64(1)\n",
            "memory usage: 32.1 KB\n",
            "\u001b[1m\n",
            "Dataframe Head\u001b[0m\n"
          ],
          "name": "stdout"
        },
        {
          "output_type": "display_data",
          "data": {
            "text/html": [
              "<div>\n",
              "<style scoped>\n",
              "    .dataframe tbody tr th:only-of-type {\n",
              "        vertical-align: middle;\n",
              "    }\n",
              "\n",
              "    .dataframe tbody tr th {\n",
              "        vertical-align: top;\n",
              "    }\n",
              "\n",
              "    .dataframe thead th {\n",
              "        text-align: right;\n",
              "    }\n",
              "</style>\n",
              "<table border=\"1\" class=\"dataframe\">\n",
              "  <thead>\n",
              "    <tr style=\"text-align: right;\">\n",
              "      <th></th>\n",
              "      <th>0</th>\n",
              "    </tr>\n",
              "  </thead>\n",
              "  <tbody>\n",
              "    <tr>\n",
              "      <th>0</th>\n",
              "      <td>162.0</td>\n",
              "    </tr>\n",
              "    <tr>\n",
              "      <th>1</th>\n",
              "      <td>164.0</td>\n",
              "    </tr>\n",
              "    <tr>\n",
              "      <th>2</th>\n",
              "      <td>164.0</td>\n",
              "    </tr>\n",
              "    <tr>\n",
              "      <th>3</th>\n",
              "      <td>154.0</td>\n",
              "    </tr>\n",
              "    <tr>\n",
              "      <th>4</th>\n",
              "      <td>139.0</td>\n",
              "    </tr>\n",
              "  </tbody>\n",
              "</table>\n",
              "</div>"
            ],
            "text/plain": [
              "       0\n",
              "0  162.0\n",
              "1  164.0\n",
              "2  164.0\n",
              "3  154.0\n",
              "4  139.0"
            ]
          },
          "metadata": {
            "tags": []
          }
        },
        {
          "output_type": "stream",
          "text": [
            "\u001b[1m\u001b[4m\n",
            "S033\u001b[0m\n",
            "\u001b[1m\n",
            "Data Information\u001b[0m\n",
            "<class 'pandas.core.frame.DataFrame'>\n",
            "RangeIndex: 4097 entries, 0 to 4096\n",
            "Data columns (total 1 columns):\n",
            " #   Column  Non-Null Count  Dtype  \n",
            "---  ------  --------------  -----  \n",
            " 0   0       4097 non-null   float64\n",
            "dtypes: float64(1)\n",
            "memory usage: 32.1 KB\n",
            "\u001b[1m\n",
            "Dataframe Head\u001b[0m\n"
          ],
          "name": "stdout"
        },
        {
          "output_type": "display_data",
          "data": {
            "text/html": [
              "<div>\n",
              "<style scoped>\n",
              "    .dataframe tbody tr th:only-of-type {\n",
              "        vertical-align: middle;\n",
              "    }\n",
              "\n",
              "    .dataframe tbody tr th {\n",
              "        vertical-align: top;\n",
              "    }\n",
              "\n",
              "    .dataframe thead th {\n",
              "        text-align: right;\n",
              "    }\n",
              "</style>\n",
              "<table border=\"1\" class=\"dataframe\">\n",
              "  <thead>\n",
              "    <tr style=\"text-align: right;\">\n",
              "      <th></th>\n",
              "      <th>0</th>\n",
              "    </tr>\n",
              "  </thead>\n",
              "  <tbody>\n",
              "    <tr>\n",
              "      <th>0</th>\n",
              "      <td>216.0</td>\n",
              "    </tr>\n",
              "    <tr>\n",
              "      <th>1</th>\n",
              "      <td>182.0</td>\n",
              "    </tr>\n",
              "    <tr>\n",
              "      <th>2</th>\n",
              "      <td>146.0</td>\n",
              "    </tr>\n",
              "    <tr>\n",
              "      <th>3</th>\n",
              "      <td>128.0</td>\n",
              "    </tr>\n",
              "    <tr>\n",
              "      <th>4</th>\n",
              "      <td>116.0</td>\n",
              "    </tr>\n",
              "  </tbody>\n",
              "</table>\n",
              "</div>"
            ],
            "text/plain": [
              "       0\n",
              "0  216.0\n",
              "1  182.0\n",
              "2  146.0\n",
              "3  128.0\n",
              "4  116.0"
            ]
          },
          "metadata": {
            "tags": []
          }
        }
      ]
    },
    {
      "cell_type": "code",
      "metadata": {
        "colab": {
          "base_uri": "https://localhost:8080/",
          "height": 250
        },
        "id": "QpDO1OEIgX6E",
        "outputId": "e609cebe-873e-4ae4-e218-d529c8075699"
      },
      "source": [
        "#Importing MNE Library\n",
        "import mne \n",
        "\n",
        "channel_name= ['CZ']\n",
        "channel_type = ['eeg']\n",
        "sample_rate = 173.61 # in hz\n",
        "\n",
        "# create an mne info file with meta data about the EEG\n",
        "info = mne.create_info(ch_names=channel_name, sfreq=sample_rate, \n",
        "                       ch_types=channel_type)\n",
        "\n",
        "# show the info file\n",
        "display(info)"
      ],
      "execution_count": null,
      "outputs": [
        {
          "output_type": "display_data",
          "data": {
            "text/html": [
              "\n",
              "<table class=\"table table-hover\">\n",
              "    <tr>\n",
              "        <th>Measurement date</th>\n",
              "<td>Unknown</td>\n",
              "    </tr>\n",
              "    <tr>\n",
              "        <th>Experimenter</th>\n",
              "<td>Unknown</td>\n",
              "    </tr>\n",
              "        <th>Participant</th>\n",
              "<td>Unknown</td>\n",
              "    </tr>\n",
              "    <tr>\n",
              "        <th>Digitized points</th>\n",
              "        <td>Not available</td>\n",
              "    </tr>\n",
              "    <tr>\n",
              "        <th>Good channels</th>\n",
              "        <td>0 magnetometer, 0 gradiometer,\n",
              "            and 1 EEG channels</td>\n",
              "    </tr>\n",
              "    <tr>\n",
              "        <th>Bad channels</th>\n",
              "        <td></td>\n",
              "        \n",
              "    </tr>\n",
              "    <tr>\n",
              "        <th>EOG channels</th>\n",
              "        <td>Not available</td>\n",
              "    </tr>\n",
              "    <tr>\n",
              "        <th>ECG channels</th>\n",
              "        <td>Not available</td>\n",
              "    <tr>\n",
              "        <th>Sampling frequency</th>\n",
              "        <td>173.61 Hz</td>\n",
              "    </tr>\n",
              "    <tr>\n",
              "        <th>Highpass</th>\n",
              "        <td>0.00 Hz</td>\n",
              "    </tr>\n",
              "     <tr>\n",
              "        <th>Lowpass</th>\n",
              "        <td>86.81 Hz</td>\n",
              "    </tr>\n",
              "</table>\n"
            ],
            "text/plain": [
              "<Info | 7 non-empty values\n",
              " bads: []\n",
              " ch_names: CZ\n",
              " chs: 1 EEG\n",
              " custom_ref_applied: False\n",
              " highpass: 0.0 Hz\n",
              " lowpass: 86.8 Hz\n",
              " meas_date: unspecified\n",
              " nchan: 1\n",
              " projs: []\n",
              " sfreq: 173.6 Hz\n",
              ">"
            ]
          },
          "metadata": {
            "tags": []
          }
        }
      ]
    },
    {
      "cell_type": "code",
      "metadata": {
        "colab": {
          "base_uri": "https://localhost:8080/"
        },
        "id": "J9SWI_4Aj3fO",
        "outputId": "d8fd21d5-5a4a-44cd-9e00-3aea7ede5028"
      },
      "source": [
        "#Converting data into volts from microvolts\n",
        "def mne_object(data, info, output=False):\n",
        "    data = data.apply(lambda x: x*1e-6)\n",
        "    # transpose the data\n",
        "    data_T = data.transpose()\n",
        "    # create raw mne object\n",
        "    raw = mne.io.RawArray(data_T, info)\n",
        "    \n",
        "    return raw\n",
        "\n",
        "epil_baseline_mne = mne_object(epil_baseline_df, info, output=True)\n",
        "epil_seizure_mne = mne_object(epil_seizure_df, info)"
      ],
      "execution_count": null,
      "outputs": [
        {
          "output_type": "stream",
          "text": [
            "Creating RawArray with float64 data, n_channels=1, n_times=4097\n",
            "    Range : 0 ... 4096 =      0.000 ...    23.593 secs\n",
            "Ready.\n",
            "Creating RawArray with float64 data, n_channels=1, n_times=4097\n",
            "    Range : 0 ... 4096 =      0.000 ...    23.593 secs\n",
            "Ready.\n"
          ],
          "name": "stdout"
        }
      ]
    },
    {
      "cell_type": "markdown",
      "metadata": {
        "id": "Y5DIUxvUkKax"
      },
      "source": [
        "## Plot Data"
      ]
    },
    {
      "cell_type": "code",
      "metadata": {
        "id": "xOqQ4mF4hKs-",
        "colab": {
          "base_uri": "https://localhost:8080/",
          "height": 994
        },
        "outputId": "c1273679-2290-4bb8-a069-2dadd84f7810"
      },
      "source": [
        "plot_kwargs = {\n",
        "    'scalings': dict(eeg=20e-4),   # zooms the plot out\n",
        "    'highpass': 0.53,              # filters out low frequencies\n",
        "    'lowpass': 40.,                # filters out high frequencies\n",
        "    'n_channels': 1,               # just plot the one channel\n",
        "    'duration': 24                 # number of seconds to plot\n",
        "}\n",
        "\n",
        "print(color.BOLD+color.UNDERLINE+\"Inter-Ictal\"+color.END)\n",
        "epil_baseline_mne.plot(**plot_kwargs)\n",
        "print(color.BOLD+color.UNDERLINE+\"Ictal\"+color.END)\n",
        "epil_seizure_mne.plot(**plot_kwargs);"
      ],
      "execution_count": null,
      "outputs": [
        {
          "output_type": "stream",
          "text": [
            "\u001b[1m\u001b[4mInter-Ictal\u001b[0m\n",
            "Setting up band-pass filter from 0.53 - 40 Hz\n",
            "\n",
            "IIR filter parameters\n",
            "---------------------\n",
            "Butterworth bandpass zero-phase (two-pass forward and reverse) non-causal filter:\n",
            "- Filter order 16 (effective, after forward-backward)\n",
            "- Cutoffs at 0.53, 40.00 Hz: -6.02, -6.02 dB\n",
            "\n"
          ],
          "name": "stdout"
        },
        {
          "output_type": "stream",
          "text": [
            "/usr/local/lib/python3.7/dist-packages/matplotlib/colors.py:263: VisibleDeprecationWarning: Creating an ndarray from ragged nested sequences (which is a list-or-tuple of lists-or-tuples-or ndarrays with different lengths or shapes) is deprecated. If you meant to do this, you must specify 'dtype=object' when creating the ndarray\n",
            "  c = np.array(c)\n"
          ],
          "name": "stderr"
        },
        {
          "output_type": "display_data",
          "data": {
            "image/png": "[encoded data removed]",
            "text/plain": [
              "<MNEBrowseFigure size 432x288 with 4 Axes>"
            ]
          },
          "metadata": {
            "tags": [],
            "needs_background": "light"
          }
        },
        {
          "output_type": "stream",
          "text": [
            "\u001b[1m\u001b[4mIctal\u001b[0m\n",
            "Setting up band-pass filter from 0.53 - 40 Hz\n",
            "\n",
            "IIR filter parameters\n",
            "---------------------\n",
            "Butterworth bandpass zero-phase (two-pass forward and reverse) non-causal filter:\n",
            "- Filter order 16 (effective, after forward-backward)\n",
            "- Cutoffs at 0.53, 40.00 Hz: -6.02, -6.02 dB\n",
            "\n"
          ],
          "name": "stdout"
        },
        {
          "output_type": "stream",
          "text": [
            "/usr/local/lib/python3.7/dist-packages/matplotlib/colors.py:263: VisibleDeprecationWarning: Creating an ndarray from ragged nested sequences (which is a list-or-tuple of lists-or-tuples-or ndarrays with different lengths or shapes) is deprecated. If you meant to do this, you must specify 'dtype=object' when creating the ndarray\n",
            "  c = np.array(c)\n"
          ],
          "name": "stderr"
        },
        {
          "output_type": "display_data",
          "data": {
            "image/png": "[encoded data removed]",
            "text/plain": [
              "<MNEBrowseFigure size 432x288 with 4 Axes>"
            ]
          },
          "metadata": {
            "tags": [],
            "needs_background": "light"
          }
        }
      ]
    },
    {
      "cell_type": "markdown",
      "metadata": {
        "id": "HtK0BcEklfE9"
      },
      "source": [
        "There is a lack of global definition of what \"normal\" EEG looks like; above represented by the Inter-Ictal data1. This is due to EEG changing over the course of a patients life, as well as between levels of cognition (e.g. awake/asleep) or behaviour (e.g. eyes open/closed). A common variation in EEG is found between awake and asleep EEG, where more global waveforms oscillate at slower frequencies across the head. This global activity is inter-dispersed with fast \"spikes\", which are commonly found in different sleep stages. The variability means EEG alone is rarely sufficient for a clinical diagnosis, with other diagnostic imaging and forms of observation often necessary.\n",
        "\n",
        "Alike to \"normal\" EEG, there is a lot of variability found between and within different seizure types. Never-the-less, comparative to pre-seizure background EEG, seizures have the common traits of synchronisation across a few or many EEG channels, a large amplitude, and increased oscillatory activity. Onsets and offsets of seizures are typically abrupt, however variations can occur both between patients as well as between seizures. Patients may also have spiked inter-seizure discharges, which are short bursts of high amplitude, syncronized activity around an epileptic focus1."
      ]
    },
    {
      "cell_type": "markdown",
      "metadata": {
        "id": "z6zmgp7UloBa"
      },
      "source": [
        "Lets now randomly sample 9 files from each folder and plot them to get an idea of how they look."
      ]
    },
    {
      "cell_type": "code",
      "metadata": {
        "id": "2RFf2Jp3kPTG"
      },
      "source": [
        "#Taking random 9 Files"
      ],
      "execution_count": null,
      "outputs": []
    },
    {
      "cell_type": "code",
      "metadata": {
        "colab": {
          "base_uri": "https://localhost:8080/",
          "height": 238
        },
        "id": "XTYvAKwjltmD",
        "outputId": "77fec16f-828d-42bd-b2b0-aca7035b6a4c"
      },
      "source": [
        "import random\n",
        "import matplotlib.pyplot as plt\n",
        "from scipy import signal\n",
        "\n",
        "for directory in EPIL_dir_file_list:\n",
        "  #if re.findall('N|F|S',directory[-1]):\n",
        "  # make a list of all the files in the directory\n",
        "  files = file_list(os.path.join(directory, '*'))\n",
        "  # randomly select 9 files from the list\n",
        "  sampled_files = random.sample(files, 9)\n",
        "\n",
        "\n",
        "  fig, axs = plt.subplots(3, 3, sharex=True, sharey=True)\n",
        "  x=0\n",
        "  y=0\n",
        "  for file in sampled_files:\n",
        "\n",
        "      # read in the datafile\n",
        "      data = pd.read_csv(file,                      # file in\n",
        "                          header=None,               # no column names at top of file\n",
        "                          dtype=float)               # read data as 'floating points' (e.g. 1.0)\n",
        "\n",
        "      # filter the data\n",
        "      b, a = signal.butter(4, [1/(sample_rate/2), 30/(sample_rate/2)], 'bandpass', analog=False)\n",
        "      filt_data = signal.filtfilt(b, a, data.T).T\n",
        "      \n",
        "      axs[x, y].plot(filt_data)\n",
        "      axs[x, y].set_title(re.findall('\\w\\d+', file)[0], pad =-15)\n",
        "      # plot all of them on the same scale\n",
        "      axs[x, y].set_ylim([-2100, 2100])\n",
        "\n",
        "      x+=1\n",
        "\n",
        "      if x == 3:\n",
        "          y +=1\n",
        "          x=0\n",
        "\n",
        "\n",
        "  # add a big axes, hide frame\n",
        "  fig.add_subplot(111, frameon=False)\n",
        "  # hide tick and tick label of the big axes\n",
        "  plt.tick_params(labelcolor='none', top=False, bottom=False, left=False, right=False)\n",
        "  plt.grid(False)\n",
        "  plt.xlabel(\"Datapoints\", labelpad =0.5)\n",
        "  plt.ylabel(\"Microvolts (uV)\", labelpad =20)\n",
        "  plt.subplots_adjust(wspace=0.1, hspace=0.1)    \n",
        "\n",
        "  if directory[-1] == 'N':\n",
        "      plt.title('Inter-ictal: Opposite Hippocampus')\n",
        "\n",
        "  elif directory[-1] == 'F':\n",
        "      plt.title('Inter-ictal: Epileptogenic Zone')\n",
        "\n",
        "  elif directory[-1] == 'S':\n",
        "      plt.title('Ictal: Epileptogenic Zone')\n",
        "  \n",
        "  elif directory[-1] == 'Z':\n",
        "      plt.title('Surface EEG: Eyes Open')\n",
        "  \n",
        "  elif directory[-1] == 'O':\n",
        "      plt.title('Surface EEG: Eyes Closed')\n",
        "\n",
        "  plt.show()"
      ],
      "execution_count": 2,
      "outputs": [
        {
          "output_type": "error",
          "ename": "NameError",
          "evalue": "ignored",
          "traceback": [
            "\u001b[0;31m---------------------------------------------------------------------------\u001b[0m",
            "\u001b[0;31mNameError\u001b[0m                                 Traceback (most recent call last)",
            "\u001b[0;32m<ipython-input-2-469a0551b69b>\u001b[0m in \u001b[0;36m<module>\u001b[0;34m()\u001b[0m\n\u001b[1;32m      3\u001b[0m \u001b[0;32mfrom\u001b[0m \u001b[0mscipy\u001b[0m \u001b[0;32mimport\u001b[0m \u001b[0msignal\u001b[0m\u001b[0;34m\u001b[0m\u001b[0;34m\u001b[0m\u001b[0m\n\u001b[1;32m      4\u001b[0m \u001b[0;34m\u001b[0m\u001b[0m\n\u001b[0;32m----> 5\u001b[0;31m \u001b[0;32mfor\u001b[0m \u001b[0mdirectory\u001b[0m \u001b[0;32min\u001b[0m \u001b[0mEPIL_dir_file_list\u001b[0m\u001b[0;34m:\u001b[0m\u001b[0;34m\u001b[0m\u001b[0;34m\u001b[0m\u001b[0m\n\u001b[0m\u001b[1;32m      6\u001b[0m   \u001b[0;31m#if re.findall('N|F|S',directory[-1]):\u001b[0m\u001b[0;34m\u001b[0m\u001b[0;34m\u001b[0m\u001b[0;34m\u001b[0m\u001b[0m\n\u001b[1;32m      7\u001b[0m   \u001b[0;31m# make a list of all the files in the directory\u001b[0m\u001b[0;34m\u001b[0m\u001b[0;34m\u001b[0m\u001b[0;34m\u001b[0m\u001b[0m\n",
            "\u001b[0;31mNameError\u001b[0m: name 'EPIL_dir_file_list' is not defined"
          ]
        }
      ]
    },
    {
      "cell_type": "code",
      "metadata": {
        "id": "5zl7zRSsl8A1"
      },
      "source": [
        ""
      ],
      "execution_count": null,
      "outputs": []
    },
    {
      "cell_type": "code",
      "metadata": {
        "id": "CUJo1FkOmq22"
      },
      "source": [
        ""
      ],
      "execution_count": null,
      "outputs": []
    }
  ]
}